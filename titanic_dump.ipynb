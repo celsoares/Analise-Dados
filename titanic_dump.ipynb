{
 "cells": [
  {
   "cell_type": "code",
   "execution_count": 21,
   "id": "ac563018",
   "metadata": {},
   "outputs": [],
   "source": [
    "# Importar o pandas e Base de dados\n",
    "import pandas as pd\n",
    "data=pd.read_csv(\"titanic_train.csv\")\n"
   ]
  },
  {
   "cell_type": "code",
   "execution_count": 22,
   "id": "97a6fd7c",
   "metadata": {},
   "outputs": [
    {
     "name": "stdout",
     "output_type": "stream",
     "text": [
      "<class 'pandas.core.frame.DataFrame'>\n",
      "RangeIndex: 891 entries, 0 to 890\n",
      "Data columns (total 12 columns):\n",
      " #   Column       Non-Null Count  Dtype  \n",
      "---  ------       --------------  -----  \n",
      " 0   PassengerId  891 non-null    int64  \n",
      " 1   Survived     891 non-null    int64  \n",
      " 2   Pclass       891 non-null    int64  \n",
      " 3   Name         891 non-null    object \n",
      " 4   Sex          891 non-null    object \n",
      " 5   Age          714 non-null    float64\n",
      " 6   SibSp        891 non-null    int64  \n",
      " 7   Parch        891 non-null    int64  \n",
      " 8   Ticket       891 non-null    object \n",
      " 9   Fare         891 non-null    float64\n",
      " 10  Cabin        204 non-null    object \n",
      " 11  Embarked     889 non-null    object \n",
      "dtypes: float64(2), int64(5), object(5)\n",
      "memory usage: 83.7+ KB\n"
     ]
    }
   ],
   "source": [
    "# Verificar as informações da base de dados\n",
    "data.info()"
   ]
  },
  {
   "cell_type": "code",
   "execution_count": 23,
   "id": "e6c2320f",
   "metadata": {},
   "outputs": [
    {
     "name": "stdout",
     "output_type": "stream",
     "text": [
      "<class 'pandas.core.frame.DataFrame'>\n",
      "RangeIndex: 891 entries, 0 to 890\n",
      "Data columns (total 9 columns):\n",
      " #   Column    Non-Null Count  Dtype  \n",
      "---  ------    --------------  -----  \n",
      " 0   Survived  891 non-null    int64  \n",
      " 1   Pclass    891 non-null    int64  \n",
      " 2   Sex       891 non-null    object \n",
      " 3   Age       714 non-null    float64\n",
      " 4   SibSp     891 non-null    int64  \n",
      " 5   Parch     891 non-null    int64  \n",
      " 6   Ticket    891 non-null    object \n",
      " 7   Fare      891 non-null    float64\n",
      " 8   Embarked  889 non-null    object \n",
      "dtypes: float64(2), int64(4), object(3)\n",
      "memory usage: 62.8+ KB\n"
     ]
    }
   ],
   "source": [
    "# Eliminar a coluna 'Cabin'\n",
    "data=data.drop(\"Cabin\", axis=1)\n",
    "data=data.drop([\"PassengerId\", \"Name\"], axis=1)\n",
    "data.info()\n"
   ]
  },
  {
   "cell_type": "code",
   "execution_count": 24,
   "id": "c95e960f",
   "metadata": {},
   "outputs": [],
   "source": [
    "data[\"Age\"].mean()\n",
    "data.loc[data[\"Age\"].isnull(), \"Age\"]=data[\"Age\"].mean()\n"
   ]
  },
  {
   "cell_type": "code",
   "execution_count": 25,
   "id": "bdda09c0",
   "metadata": {},
   "outputs": [
    {
     "data": {
      "text/plain": [
       "0    577\n",
       "1    314\n",
       "Name: Sex, dtype: int64"
      ]
     },
     "execution_count": 25,
     "metadata": {},
     "output_type": "execute_result"
    }
   ],
   "source": [
    "\n",
    "data[\"Sex\"]=data[\"Sex\"].replace(\"male\", 0)\n",
    "data[\"Sex\"]=data[\"Sex\"].replace(\"female\", 1)\n",
    "data[\"Sex\"].value_counts()"
   ]
  },
  {
   "cell_type": "markdown",
   "id": "819198e6",
   "metadata": {},
   "source": [
    "Retirar os valores vazios\n",
    "https://pandas.pydata.org/docs/reference/api/pandas.DataFrame.dropna.html"
   ]
  },
  {
   "cell_type": "code",
   "execution_count": 26,
   "id": "dacb13ab",
   "metadata": {},
   "outputs": [
    {
     "name": "stdout",
     "output_type": "stream",
     "text": [
      "<class 'pandas.core.frame.DataFrame'>\n",
      "Int64Index: 889 entries, 0 to 890\n",
      "Data columns (total 9 columns):\n",
      " #   Column    Non-Null Count  Dtype  \n",
      "---  ------    --------------  -----  \n",
      " 0   Survived  889 non-null    int64  \n",
      " 1   Pclass    889 non-null    int64  \n",
      " 2   Sex       889 non-null    int64  \n",
      " 3   Age       889 non-null    float64\n",
      " 4   SibSp     889 non-null    int64  \n",
      " 5   Parch     889 non-null    int64  \n",
      " 6   Ticket    889 non-null    object \n",
      " 7   Fare      889 non-null    float64\n",
      " 8   Embarked  889 non-null    object \n",
      "dtypes: float64(2), int64(5), object(2)\n",
      "memory usage: 69.5+ KB\n"
     ]
    }
   ],
   "source": [
    "# Eliminar valores vazios\n",
    "data=data.dropna()\n",
    "data.info()"
   ]
  },
  {
   "cell_type": "raw",
   "id": "f562eb4f",
   "metadata": {},
   "source": [
    "Apagar as colunas do tipo objeto"
   ]
  },
  {
   "cell_type": "code",
   "execution_count": 27,
   "id": "6bf42cd7",
   "metadata": {},
   "outputs": [
    {
     "name": "stdout",
     "output_type": "stream",
     "text": [
      "<class 'pandas.core.frame.DataFrame'>\n",
      "Int64Index: 889 entries, 0 to 890\n",
      "Data columns (total 7 columns):\n",
      " #   Column    Non-Null Count  Dtype  \n",
      "---  ------    --------------  -----  \n",
      " 0   Survived  889 non-null    int64  \n",
      " 1   Pclass    889 non-null    int64  \n",
      " 2   Sex       889 non-null    int64  \n",
      " 3   Age       889 non-null    float64\n",
      " 4   SibSp     889 non-null    int64  \n",
      " 5   Parch     889 non-null    int64  \n",
      " 6   Fare      889 non-null    float64\n",
      "dtypes: float64(2), int64(5)\n",
      "memory usage: 55.6 KB\n"
     ]
    }
   ],
   "source": [
    "# Selecionar as colunas com o tipo \"object\"\n",
    "colunas=data.dtypes[data.dtypes.values==\"object\"].index\n",
    "data=data.drop(colunas, axis=1)\n",
    "data.info()"
   ]
  },
  {
   "cell_type": "markdown",
   "id": "69044251",
   "metadata": {},
   "source": [
    "Aplicar os modelos de classificação\n",
    "- Arvore de Decisão \n",
    "https://scikit-learn.org/stable/modules/tree.html#classification\n",
    "- KNN (Vizinhos mais proximos) \n",
    "https://scikit-learn.org/stable/modules/generated/sklearn.neighbors.KNeighborsClassifier.html#sklearn.neighbors.KNeighborsClassifier\n",
    "- Regressão Logistica \n",
    "https://scikit-learn.org/stable/modules/generated/sklearn.linear_model.LogisticRegression.html#sklearn.linear_model.LogisticRegression"
   ]
  },
  {
   "cell_type": "code",
   "execution_count": 28,
   "id": "a77916ae",
   "metadata": {},
   "outputs": [],
   "source": [
    "# Criar o X e y para o treino\n",
    "X=data.drop(\"Survived\", axis=1)\n",
    "y=data[\"Survived\"]\n"
   ]
  },
  {
   "cell_type": "code",
   "execution_count": 29,
   "id": "11a79c7f",
   "metadata": {},
   "outputs": [],
   "source": [
    "#Importar as bibliotecas\n",
    "from sklearn import tree\n",
    "from sklearn.neighbors import KNeighborsClassifier\n",
    "from sklearn.linear_model import LogisticRegression"
   ]
  },
  {
   "cell_type": "code",
   "execution_count": 30,
   "id": "05d1a815",
   "metadata": {},
   "outputs": [],
   "source": [
    "#Criar o  Classificador e fazer o fit\n",
    "clf_Tree = tree.DecisionTreeClassifier().fit(X, y)\n",
    "clf_KNN = KNeighborsClassifier(n_neighbors=3).fit(X, y)\n",
    "clf_Log = LogisticRegression(random_state=0, max_iter=1000).fit(X, y)"
   ]
  },
  {
   "cell_type": "code",
   "execution_count": 31,
   "id": "1228d9bd",
   "metadata": {},
   "outputs": [
    {
     "name": "stdout",
     "output_type": "stream",
     "text": [
      "Arvore: 0.9820022497187851\n",
      "KNN: 0.8413948256467941\n",
      "R Logistica: 0.7975253093363329\n"
     ]
    }
   ],
   "source": [
    "#Ver o Score do Treino\n",
    "\n",
    "print(\"Arvore:\", clf_Tree.score(X,y))\n",
    "print(\"KNN:\", clf_KNN.score(X,y))\n",
    "print(\"R Logistica:\", clf_Log.score(X,y))\n"
   ]
  },
  {
   "cell_type": "markdown",
   "id": "4683bf01",
   "metadata": {},
   "source": [
    "Testar o modelo no ficheiro de Teste\n",
    "titanic_test.csv"
   ]
  },
  {
   "cell_type": "code",
   "execution_count": 32,
   "id": "9e48a319",
   "metadata": {},
   "outputs": [],
   "source": [
    "#importar a base de dados\n",
    "data_teste=pd.read_csv(\"titanic_test.csv\")"
   ]
  },
  {
   "cell_type": "code",
   "execution_count": 33,
   "id": "b9326063",
   "metadata": {},
   "outputs": [],
   "source": [
    "# Fazer os mesmos tratamentos\n",
    "data_teste=data_teste.drop(\"Cabin\", axis=1)\n",
    "data_teste=data_teste.drop([\"PassengerId\", \"Name\"], axis=1)\n",
    "data_teste[\"Age\"].mean()\n",
    "data_teste.loc[data_teste[\"Age\"].isnull(), \"Age\"]=data_teste[\"Age\"].mean()\n",
    "\n",
    "data_teste[\"Sex\"]=data_teste[\"Sex\"].replace(\"male\", 0)\n",
    "data_teste[\"Sex\"]=data_teste[\"Sex\"].replace(\"female\", 1)\n",
    "\n",
    "data_teste=data_teste.dropna()\n",
    "\n",
    "colunas2=data_teste.dtypes[data_teste.dtypes.values==\"object\"].index\n",
    "data_teste=data_teste.drop(colunas, axis=1)"
   ]
  },
  {
   "cell_type": "code",
   "execution_count": 34,
   "id": "faa73be9",
   "metadata": {},
   "outputs": [
    {
     "name": "stdout",
     "output_type": "stream",
     "text": [
      "<class 'pandas.core.frame.DataFrame'>\n",
      "Int64Index: 417 entries, 0 to 417\n",
      "Data columns (total 7 columns):\n",
      " #   Column    Non-Null Count  Dtype  \n",
      "---  ------    --------------  -----  \n",
      " 0   Survived  417 non-null    int64  \n",
      " 1   Pclass    417 non-null    int64  \n",
      " 2   Sex       417 non-null    int64  \n",
      " 3   Age       417 non-null    float64\n",
      " 4   SibSp     417 non-null    int64  \n",
      " 5   Parch     417 non-null    int64  \n",
      " 6   Fare      417 non-null    float64\n",
      "dtypes: float64(2), int64(5)\n",
      "memory usage: 26.1 KB\n"
     ]
    }
   ],
   "source": [
    "#Ver resultado final\n",
    "data_teste.info()"
   ]
  },
  {
   "cell_type": "code",
   "execution_count": 35,
   "id": "eea06975",
   "metadata": {},
   "outputs": [],
   "source": [
    "# Separar X e y da base de dados\n",
    "X_teste=data_teste.drop(\"Survived\", axis=1)\n",
    "y_teste=data_teste[\"Survived\"]"
   ]
  },
  {
   "cell_type": "code",
   "execution_count": 36,
   "id": "d46f55c8",
   "metadata": {},
   "outputs": [
    {
     "name": "stdout",
     "output_type": "stream",
     "text": [
      "Arvore: 0.7985611510791367\n",
      "KNN: 0.6498800959232613\n",
      "R Logistica: 0.9448441247002398\n"
     ]
    }
   ],
   "source": [
    "#Fazer a previsão\n",
    "y_pred_Tree=clf_Tree.score(X_teste,y_teste)\n",
    "y_pred_KNN=clf_KNN.score(X_teste,y_teste)\n",
    "y_pred_Log=clf_Log.score(X_teste,y_teste)\n",
    "\n",
    "\n",
    "print(\"Arvore:\", clf_Tree.score(X_teste,y_teste))\n",
    "print(\"KNN:\", clf_KNN.score(X_teste,y_teste))\n",
    "print(\"R Logistica:\", clf_Log.score(X_teste,y_teste))"
   ]
  },
  {
   "cell_type": "code",
   "execution_count": null,
   "id": "90414b0a",
   "metadata": {},
   "outputs": [],
   "source": [
    "X_teste.to_excel(\"teste.xlsx\", index=False, sheet_name=\"folha1\")"
   ]
  },
  {
   "cell_type": "markdown",
   "id": "ab081368",
   "metadata": {},
   "source": [
    "Calcular a accuracy\n",
    "\n",
    "https://scikit-learn.org/stable/modules/generated/sklearn.metrics.accuracy_score.html#sklearn.metrics.accuracy_score"
   ]
  },
  {
   "cell_type": "code",
   "execution_count": 37,
   "id": "c114d49d",
   "metadata": {},
   "outputs": [],
   "source": [
    "import pickle\n",
    "\n",
    "with open(\"modelo_final.pkl\", \"wb\") as file:\n",
    "    pickle.dump(clf_Log, file)\n",
    "\n"
   ]
  },
  {
   "cell_type": "code",
   "execution_count": null,
   "id": "5c6f9b20",
   "metadata": {},
   "outputs": [],
   "source": []
  },
  {
   "cell_type": "code",
   "execution_count": null,
   "id": "c59cdeef",
   "metadata": {},
   "outputs": [],
   "source": []
  }
 ],
 "metadata": {
  "kernelspec": {
   "display_name": "Python 3 (ipykernel)",
   "language": "python",
   "name": "python3"
  },
  "language_info": {
   "codemirror_mode": {
    "name": "ipython",
    "version": 3
   },
   "file_extension": ".py",
   "mimetype": "text/x-python",
   "name": "python",
   "nbconvert_exporter": "python",
   "pygments_lexer": "ipython3",
   "version": "3.11.0"
  }
 },
 "nbformat": 4,
 "nbformat_minor": 5
}
